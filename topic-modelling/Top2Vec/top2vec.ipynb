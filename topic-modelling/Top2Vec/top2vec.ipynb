{
 "cells": [
  {
   "cell_type": "markdown",
   "metadata": {},
   "source": [
    "# Top2Vec to conduct Topic Modelling on Coursera Data"
   ]
  },
  {
   "cell_type": "markdown",
   "metadata": {},
   "source": [
    "We will first cluster the topics within each program: Then, we will vectorise the module summaries, do dimensionality reduction before using HDBSCAN to generate the topics. Then, it will extract the top 5-10 keywords per topic (exact number to be determined after fine-tuning) using c-TF-IDF.\n",
    "\n",
    "The difference between using Top2Vec compared to using BERT is that keyword extraction is done by taking the keyword vectors that are closest to the topic centroid."
   ]
  },
  {
   "cell_type": "markdown",
   "metadata": {},
   "source": [
    "# 1.0 Importing Libraries and Coursera Dataset"
   ]
  },
  {
   "cell_type": "code",
   "execution_count": 18,
   "metadata": {},
   "outputs": [],
   "source": [
    "import pandas as pd\n",
    "import numpy as np\n",
    "from spacy.lang.en import English\n",
    "from spacy.lang.en.stop_words import STOP_WORDS\n",
    "from gensim.models import CoherenceModel\n",
    "from top2vec import Top2Vec\n",
    "import time\n",
    "import re\n",
    "from gensim.models.coherencemodel import CoherenceModel\n",
    "from gensim.corpora import Dictionary\n",
    "import gensim.corpora as corpora\n",
    "from tqdm.notebook import tqdm\n",
    "import seaborn as sns\n",
    "import matplotlib.pyplot as plt\n",
    "import warnings\n",
    "warnings.filterwarnings(\"ignore\")"
   ]
  },
  {
   "cell_type": "code",
   "execution_count": 19,
   "metadata": {},
   "outputs": [],
   "source": [
    "df_program = pd.read_csv('data/prog_scraped.csv')\n",
    "df_course = pd.read_csv('data/course_scraped.csv')\n",
    "df_module = pd.read_csv('data/module_scraped.csv') "
   ]
  },
  {
   "cell_type": "code",
   "execution_count": 20,
   "metadata": {},
   "outputs": [
    {
     "data": {
      "text/html": [
       "<div>\n",
       "<style scoped>\n",
       "    .dataframe tbody tr th:only-of-type {\n",
       "        vertical-align: middle;\n",
       "    }\n",
       "\n",
       "    .dataframe tbody tr th {\n",
       "        vertical-align: top;\n",
       "    }\n",
       "\n",
       "    .dataframe thead th {\n",
       "        text-align: right;\n",
       "    }\n",
       "</style>\n",
       "<table border=\"1\" class=\"dataframe\">\n",
       "  <thead>\n",
       "    <tr style=\"text-align: right;\">\n",
       "      <th></th>\n",
       "      <th>id</th>\n",
       "      <th>prog_title</th>\n",
       "      <th>org</th>\n",
       "      <th>cert_type</th>\n",
       "      <th>enrolled</th>\n",
       "      <th>num_courses</th>\n",
       "      <th>rating</th>\n",
       "      <th>num_reviews</th>\n",
       "      <th>difficulty</th>\n",
       "      <th>prog_lo_description</th>\n",
       "      <th>prog_lo_skills</th>\n",
       "      <th>prog_description</th>\n",
       "      <th>course_title_description_skills</th>\n",
       "      <th>url</th>\n",
       "    </tr>\n",
       "  </thead>\n",
       "  <tbody>\n",
       "    <tr>\n",
       "      <th>0</th>\n",
       "      <td>0</td>\n",
       "      <td>ISC2 Systems Security Certified Practitioner (...</td>\n",
       "      <td>ISC2</td>\n",
       "      <td>Specialization</td>\n",
       "      <td>22,401</td>\n",
       "      <td>7</td>\n",
       "      <td>4.8</td>\n",
       "      <td>973.0</td>\n",
       "      <td>Beginner</td>\n",
       "      <td>Implement, monitor and administer an organizat...</td>\n",
       "      <td>Security Engineering;Network Security;Leadersh...</td>\n",
       "      <td>Pursue better IT security job opportunities an...</td>\n",
       "      <td>Security Concepts and Practices|Course 1 - Sec...</td>\n",
       "      <td>https://www.coursera.org/specializations/sscp-...</td>\n",
       "    </tr>\n",
       "    <tr>\n",
       "      <th>1</th>\n",
       "      <td>1</td>\n",
       "      <td>.NET FullStack Developer Specialization</td>\n",
       "      <td>Board Infinity</td>\n",
       "      <td>Specialization</td>\n",
       "      <td>11,753</td>\n",
       "      <td>3</td>\n",
       "      <td>4.1</td>\n",
       "      <td>259.0</td>\n",
       "      <td>Intermediate</td>\n",
       "      <td>Master .NET full stack web dev: from .NET core...</td>\n",
       "      <td>Model–View–Controller (MVC);HTML;React (Web Fr...</td>\n",
       "      <td>Develop the proficiency required to design and...</td>\n",
       "      <td>.Net Full Stack Foundation|Understand .NET fra...</td>\n",
       "      <td>https://www.coursera.org/specializations/dot-n...</td>\n",
       "    </tr>\n",
       "    <tr>\n",
       "      <th>2</th>\n",
       "      <td>2</td>\n",
       "      <td>AI For Business Specialization</td>\n",
       "      <td>University of Pennsylvania</td>\n",
       "      <td>Specialization</td>\n",
       "      <td>39,842</td>\n",
       "      <td>4</td>\n",
       "      <td>4.7</td>\n",
       "      <td>1.0</td>\n",
       "      <td>Beginner</td>\n",
       "      <td>NaN</td>\n",
       "      <td>Machine Learning;Machine Learning Algorithms;A...</td>\n",
       "      <td>This specialization will provide learners with...</td>\n",
       "      <td>AI Fundamentals for Non-Data Scientists|In thi...</td>\n",
       "      <td>https://www.coursera.org/specializations/ai-fo...</td>\n",
       "    </tr>\n",
       "    <tr>\n",
       "      <th>3</th>\n",
       "      <td>3</td>\n",
       "      <td>AI Foundations for Everyone Specialization</td>\n",
       "      <td>IBM</td>\n",
       "      <td>Specialization</td>\n",
       "      <td>44,046</td>\n",
       "      <td>4</td>\n",
       "      <td>4.7</td>\n",
       "      <td>3.0</td>\n",
       "      <td>Beginner</td>\n",
       "      <td>NaN</td>\n",
       "      <td>Cloud Computing;Human Computer Interaction;Hum...</td>\n",
       "      <td>Artificial Intelligence (AI) is no longer scie...</td>\n",
       "      <td>Introduction to Artificial Intelligence (AI)|D...</td>\n",
       "      <td>https://www.coursera.org/specializations/ai-fo...</td>\n",
       "    </tr>\n",
       "    <tr>\n",
       "      <th>4</th>\n",
       "      <td>4</td>\n",
       "      <td>AI Product Management Specialization</td>\n",
       "      <td>Duke University</td>\n",
       "      <td>Specialization</td>\n",
       "      <td>40,831</td>\n",
       "      <td>3</td>\n",
       "      <td>4.7</td>\n",
       "      <td>636.0</td>\n",
       "      <td>Beginner</td>\n",
       "      <td>Identify when and how machine learning can app...</td>\n",
       "      <td>Machine Learning;Machine Learning Algorithms;A...</td>\n",
       "      <td>Organizations in every industry are accelerati...</td>\n",
       "      <td>Machine Learning Foundations for Product Manag...</td>\n",
       "      <td>https://www.coursera.org/specializations/ai-pr...</td>\n",
       "    </tr>\n",
       "  </tbody>\n",
       "</table>\n",
       "</div>"
      ],
      "text/plain": [
       "   id                                         prog_title  \\\n",
       "0   0  ISC2 Systems Security Certified Practitioner (...   \n",
       "1   1            .NET FullStack Developer Specialization   \n",
       "2   2                     AI For Business Specialization   \n",
       "3   3         AI Foundations for Everyone Specialization   \n",
       "4   4               AI Product Management Specialization   \n",
       "\n",
       "                          org       cert_type enrolled  num_courses  rating  \\\n",
       "0                        ISC2  Specialization   22,401            7     4.8   \n",
       "1             Board Infinity   Specialization   11,753            3     4.1   \n",
       "2  University of Pennsylvania  Specialization   39,842            4     4.7   \n",
       "3                         IBM  Specialization   44,046            4     4.7   \n",
       "4             Duke University  Specialization   40,831            3     4.7   \n",
       "\n",
       "   num_reviews    difficulty  \\\n",
       "0        973.0      Beginner   \n",
       "1        259.0  Intermediate   \n",
       "2          1.0      Beginner   \n",
       "3          3.0      Beginner   \n",
       "4        636.0      Beginner   \n",
       "\n",
       "                                 prog_lo_description  \\\n",
       "0  Implement, monitor and administer an organizat...   \n",
       "1  Master .NET full stack web dev: from .NET core...   \n",
       "2                                                NaN   \n",
       "3                                                NaN   \n",
       "4  Identify when and how machine learning can app...   \n",
       "\n",
       "                                      prog_lo_skills  \\\n",
       "0  Security Engineering;Network Security;Leadersh...   \n",
       "1  Model–View–Controller (MVC);HTML;React (Web Fr...   \n",
       "2  Machine Learning;Machine Learning Algorithms;A...   \n",
       "3  Cloud Computing;Human Computer Interaction;Hum...   \n",
       "4  Machine Learning;Machine Learning Algorithms;A...   \n",
       "\n",
       "                                    prog_description  \\\n",
       "0  Pursue better IT security job opportunities an...   \n",
       "1  Develop the proficiency required to design and...   \n",
       "2  This specialization will provide learners with...   \n",
       "3  Artificial Intelligence (AI) is no longer scie...   \n",
       "4  Organizations in every industry are accelerati...   \n",
       "\n",
       "                     course_title_description_skills  \\\n",
       "0  Security Concepts and Practices|Course 1 - Sec...   \n",
       "1  .Net Full Stack Foundation|Understand .NET fra...   \n",
       "2  AI Fundamentals for Non-Data Scientists|In thi...   \n",
       "3  Introduction to Artificial Intelligence (AI)|D...   \n",
       "4  Machine Learning Foundations for Product Manag...   \n",
       "\n",
       "                                                 url  \n",
       "0  https://www.coursera.org/specializations/sscp-...  \n",
       "1  https://www.coursera.org/specializations/dot-n...  \n",
       "2  https://www.coursera.org/specializations/ai-fo...  \n",
       "3  https://www.coursera.org/specializations/ai-fo...  \n",
       "4  https://www.coursera.org/specializations/ai-pr...  "
      ]
     },
     "execution_count": 20,
     "metadata": {},
     "output_type": "execute_result"
    }
   ],
   "source": [
    "df_program.rename(columns={'Unnamed: 0':'id'}, inplace=True)\n",
    "\n",
    "df_program.head()    "
   ]
  },
  {
   "cell_type": "markdown",
   "metadata": {},
   "source": [
    "# 2.0 Exploratory Data Analysis and Text Processing for Top2Vec"
   ]
  },
  {
   "cell_type": "code",
   "execution_count": 21,
   "metadata": {},
   "outputs": [
    {
     "name": "stdout",
     "output_type": "stream",
     "text": [
      "(474, 14)\n",
      "Index(['id', 'prog_title', 'org', 'cert_type', 'enrolled', 'num_courses',\n",
      "       'rating', 'num_reviews', 'difficulty', 'prog_lo_description',\n",
      "       'prog_lo_skills', 'prog_description', 'course_title_description_skills',\n",
      "       'url'],\n",
      "      dtype='object')\n"
     ]
    }
   ],
   "source": [
    "print(df_program.shape)\n",
    "print(df_program.columns)"
   ]
  },
  {
   "cell_type": "code",
   "execution_count": 22,
   "metadata": {},
   "outputs": [
    {
     "name": "stdout",
     "output_type": "stream",
     "text": [
      "<class 'pandas.core.frame.DataFrame'>\n",
      "RangeIndex: 474 entries, 0 to 473\n",
      "Data columns (total 14 columns):\n",
      " #   Column                           Non-Null Count  Dtype  \n",
      "---  ------                           --------------  -----  \n",
      " 0   id                               474 non-null    int64  \n",
      " 1   prog_title                       474 non-null    object \n",
      " 2   org                              464 non-null    object \n",
      " 3   cert_type                        474 non-null    object \n",
      " 4   enrolled                         460 non-null    object \n",
      " 5   num_courses                      474 non-null    int64  \n",
      " 6   rating                           467 non-null    float64\n",
      " 7   num_reviews                      467 non-null    float64\n",
      " 8   difficulty                       474 non-null    object \n",
      " 9   prog_lo_description              328 non-null    object \n",
      " 10  prog_lo_skills                   468 non-null    object \n",
      " 11  prog_description                 473 non-null    object \n",
      " 12  course_title_description_skills  474 non-null    object \n",
      " 13  url                              474 non-null    object \n",
      "dtypes: float64(2), int64(2), object(10)\n",
      "memory usage: 52.0+ KB\n"
     ]
    },
    {
     "data": {
      "text/plain": [
       "id                                   0\n",
       "prog_title                           0\n",
       "org                                 10\n",
       "cert_type                            0\n",
       "enrolled                            14\n",
       "num_courses                          0\n",
       "rating                               7\n",
       "num_reviews                          7\n",
       "difficulty                           0\n",
       "prog_lo_description                146\n",
       "prog_lo_skills                       6\n",
       "prog_description                     1\n",
       "course_title_description_skills      0\n",
       "url                                  0\n",
       "dtype: int64"
      ]
     },
     "execution_count": 22,
     "metadata": {},
     "output_type": "execute_result"
    }
   ],
   "source": [
    "df_program.info()      \n",
    "df_program.isnull().sum()  "
   ]
  },
  {
   "cell_type": "code",
   "execution_count": 23,
   "metadata": {},
   "outputs": [
    {
     "name": "stdout",
     "output_type": "stream",
     "text": [
      "nan removed\n"
     ]
    }
   ],
   "source": [
    "df_program['prog_description'] = df_program['prog_description'].fillna('')\n",
    "df_program['prog_lo_description'] = df_program['prog_lo_description'].fillna('')\n",
    "\n",
    "#Check for any more missing values in prog_description and prog_lo_description\n",
    "df_program.isnull().sum()\n",
    "\n",
    "print(\"nan removed\")"
   ]
  },
  {
   "cell_type": "code",
   "execution_count": 24,
   "metadata": {},
   "outputs": [
    {
     "name": "stdout",
     "output_type": "stream",
     "text": [
      "Combined data for row 0:\n",
      " Pursue better IT security job opportunities and prove knowledge with confidence. The SSCP Professional Training Certificate shows employers you have the IT security foundation to defend against cyber attacks – and puts you on a clear path to earning SSCP certification.;Upon completing the SSCP Professional Certificate, you will:;Complete seven courses of preparing you to sit for the Systems Security Certified Practitioner (SSCP) certification exam Opens in a new tabas outlined below.;Course 1 - Security Concepts and Practices;Course 2 - Access Controls;Course 3 - Risk Identification, Monitoring, and Analysis;Course 4 - Incident Response and Recovery;Course 5 - Cryptography;Course 6 - Network and Communications Security;Course 7 - Systems and Application Security;Receive a certificate of program completion.;Understand how to implement, monitor and administer an organization’s IT infrastructure in accordance with security policies and procedures that ensure data confidentiality, integrity and availability.;Applied Learning Project;Each course includes a final assessment and knowledge checks that will require students to put into practice the knowledge they have gained throughout each course. Successful completion of assessments will require the basic understanding of the topics covered and the ability to relate those topics to the real world.  Implement, monitor and administer an organization’s IT infrastructure\n"
     ]
    }
   ],
   "source": [
    "# Combine the program description and the learning outcomes description for each program\n",
    "def combine_text(row):\n",
    "    '''\n",
    "    combines the lo_description (meant act as the summary) and the program description for ease in topic modelling\n",
    "    '''\n",
    "    lo_descriptions = row[\"prog_lo_description\"].split(\";\") \n",
    "    lo_text = \" \".join(lo_descriptions)\n",
    "    combined = row[\"prog_description\"] + \" \" + lo_text\n",
    "    return combined\n",
    "\n",
    "df_program[\"combined_text\"] = df_program.apply(combine_text, axis=1)\n",
    "print(\"Combined data for row 0:\\n\", df_program[\"combined_text\"][0])"
   ]
  },
  {
   "cell_type": "code",
   "execution_count": 25,
   "metadata": {},
   "outputs": [
    {
     "name": "stdout",
     "output_type": "stream",
     "text": [
      "Cleaned Text: pursue better security job prove knowledge confidence sscp training shows employers security foundation defend cyber attacks puts clear path earning sscp certificationupon completing sscp willcomplete seven courses preparing sit systems security certified practitioner sscp certification exam opens new tabas outlined belowcourse security concepts practicescourse access controlscourse risk identification monitoring analysiscourse incident response recoverycourse cryptographycourse network communications securitycourse systems application securityreceive completionunderstand implement monitor administer organizations infrastructure accordance security policies procedures ensure data confidentiality integrity availabilityapplied projecteach includes final assessment knowledge checks require students practice knowledge gained successful completion assessments require basic understanding topics covered ability relate topics real world implement monitor administer organizations infrastructure\n"
     ]
    }
   ],
   "source": [
    "#Remove stopwords and punctuation\n",
    "coursera_stopwords = [\n",
    "    \"course\", \"program\", \"learn\", \"learning\", \"outcome\", \"outcomes\",\n",
    "    \"description\", \"skill\", \"skills\", \"module\", \"modules\", \"specialization\",\n",
    "    \"specialisation\", \"certificate\", \"certificates\", \"certificate,\", \"certificates,\",\n",
    "    \"professional\", \"career\", \"opportunity\", \"opportunities\", \"project\", \"projects\", \"work\", \"experience\", \"experiences\"]\n",
    "\n",
    "STOP_WORDS = STOP_WORDS.union(coursera_stopwords)\n",
    "\n",
    "def preprocess_text(text: str):\n",
    "    '''\n",
    "    1. Lowercase conversion\n",
    "    2. Removing nonalphanumeric characters\n",
    "    3. Removing stopwords, punctuation\n",
    "    '''\n",
    "    text = text.lower()\n",
    "    text = re.sub(r\"[^a-z\\s]\", \"\", text)\n",
    "    words = text.split()\n",
    "    return \" \".join([\n",
    "        w for w in words\n",
    "        if len(w) > 2 and w not in STOP_WORDS\n",
    "    ])\n",
    "    \n",
    "df_program[\"cleaned_text\"] = df_program[\"combined_text\"].apply(preprocess_text)\n",
    "print(\"Cleaned Text:\", df_program[\"cleaned_text\"][0])"
   ]
  },
  {
   "cell_type": "markdown",
   "metadata": {},
   "source": [
    "# 3.0 Training Pipeline for 3 Models"
   ]
  },
  {
   "cell_type": "code",
   "execution_count": 26,
   "metadata": {},
   "outputs": [
    {
     "name": "stderr",
     "output_type": "stream",
     "text": [
      "2025-03-23 14:44:47,921 - top2vec - INFO - Pre-processing documents for training\n"
     ]
    },
    {
     "name": "stdout",
     "output_type": "stream",
     "text": [
      "\n",
      "Training Doc2Vec model...\n"
     ]
    },
    {
     "name": "stderr",
     "output_type": "stream",
     "text": [
      "2025-03-23 14:44:48,119 - top2vec - INFO - Creating joint document/word embedding\n",
      "2025-03-23 14:44:51,735 - top2vec - INFO - Creating lower dimension embedding of documents\n",
      "2025-03-23 14:44:52,360 - top2vec - INFO - Finding dense areas of documents\n",
      "2025-03-23 14:44:52,379 - top2vec - INFO - Finding topics\n",
      "2025-03-23 14:44:52,392 - top2vec - INFO - Pre-processing documents for training\n"
     ]
    },
    {
     "name": "stdout",
     "output_type": "stream",
     "text": [
      "Doc2Vec model trained in 0.07 minutes\n",
      "\n",
      "Training SBERT model...\n"
     ]
    },
    {
     "name": "stderr",
     "output_type": "stream",
     "text": [
      "2025-03-23 14:44:52,660 - top2vec - INFO - Downloading all-MiniLM-L6-v2 model\n",
      "2025-03-23 14:44:55,803 - top2vec - INFO - Creating joint document/word embedding\n",
      "2025-03-23 14:45:17,270 - top2vec - INFO - Creating lower dimension embedding of documents\n",
      "2025-03-23 14:45:18,517 - top2vec - INFO - Finding dense areas of documents\n",
      "2025-03-23 14:45:18,552 - top2vec - INFO - Finding topics\n"
     ]
    },
    {
     "name": "stdout",
     "output_type": "stream",
     "text": [
      "SBERT model trained in 0.44 minutes\n",
      "doc2vec model saved to disk.\n",
      "sbert model saved to disk.\n"
     ]
    }
   ],
   "source": [
    "def train_models(df, cleaned_text_column='cleaned_text', id_column='id'):\n",
    "    \"\"\"\n",
    "    Train and return Top2Vec models with different embedding approaches.\n",
    "    Only returns models that successfully generate at least one topic.\n",
    "    \"\"\"\n",
    "    docs = df[cleaned_text_column].tolist()\n",
    "    doc_ids = df[id_column].tolist()\n",
    "    models = {}\n",
    "\n",
    "    def train_and_validate(name, embedding_model):\n",
    "        print(f\"\\nTraining {name} model...\")\n",
    "        start_time = time.time()\n",
    "        try:\n",
    "            model = Top2Vec(\n",
    "                documents=docs,\n",
    "                embedding_model=embedding_model,\n",
    "                keep_documents=True,\n",
    "                document_ids=doc_ids,\n",
    "                speed='learn',\n",
    "                workers=4\n",
    "            )\n",
    "            topic_sizes, topic_nums = model.get_topic_sizes()\n",
    "            if len(topic_nums) == 0:\n",
    "                print(f\"{name} model trained but found **no topics** — skipping.\")\n",
    "                return None\n",
    "            print(f\"{name} model trained in {(time.time() - start_time)/60:.2f} minutes\")\n",
    "            return model\n",
    "        except Exception as e:\n",
    "            print(f\"Failed to train {name} model: {e}\")\n",
    "            return None\n",
    "\n",
    "    # Train Doc2Vec\n",
    "    models['doc2vec'] = train_and_validate(\"Doc2Vec\", 'doc2vec')\n",
    "\n",
    "    # Train Sentence-BERT\n",
    "    models['sbert'] = train_and_validate(\"SBERT\", 'all-MiniLM-L6-v2')\n",
    "\n",
    "    return models\n",
    "\n",
    "# Function to save models to specific folder\n",
    "def save_models(models, folder='saved models'):\n",
    "    \"\"\"\n",
    "    Save Top2Vec models to disk.\n",
    "    \"\"\"\n",
    "    for name, model in models.items():\n",
    "        if model is not None:\n",
    "            model.save(f'{folder}/{name}.pkl')\n",
    "            print(f\"{name} model saved to disk.\")\n",
    "        \n",
    "# Apply the function to train the models\n",
    "models = train_models(df_program)\n",
    "save_models(models)\n"
   ]
  },
  {
   "cell_type": "markdown",
   "metadata": {},
   "source": [
    "# 4.0 Evaluation of the 3 models using Gensim Coherence Scoring"
   ]
  },
  {
   "cell_type": "markdown",
   "metadata": {},
   "source": [
    "## 4.1 Text Pre-Processing for Gensim"
   ]
  },
  {
   "cell_type": "code",
   "execution_count": 27,
   "metadata": {},
   "outputs": [],
   "source": [
    "# Extract topics for coherence\n",
    "def extract_topics_for_coherence(model):\n",
    "    \"\"\"\n",
    "    Extract topics from a Top2Vec model using get_topics(),\n",
    "    adapted for versions where get_topic_words/get_topic are not available.\n",
    "    \"\"\"\n",
    "    try:\n",
    "        topic_words, word_scores, topic_nums = model.get_topics()\n",
    "        topic_sizes, _ = model.get_topic_sizes()\n",
    "\n",
    "        topics = [list(words[:20]) for words in topic_words]\n",
    "\n",
    "        return topics, topic_nums, topic_sizes\n",
    "\n",
    "    except Exception as e:\n",
    "        raise RuntimeError(f\"Error extracting topics: {e}\")"
   ]
  },
  {
   "cell_type": "markdown",
   "metadata": {},
   "source": [
    "## 4.2 Define functions for evaluation"
   ]
  },
  {
   "cell_type": "code",
   "execution_count": 28,
   "metadata": {},
   "outputs": [],
   "source": [
    "def calculate_coherence(model, texts_tokens):\n",
    "    dictionary = corpora.Dictionary(texts_tokens)\n",
    "    corpus = [dictionary.doc2bow(text) for text in texts_tokens]\n",
    "\n",
    "    topics, topic_nums, topic_sizes = extract_topics_for_coherence(model)\n",
    "\n",
    "    coherence_model = CoherenceModel(\n",
    "        topics=topics,\n",
    "        texts=texts_tokens,\n",
    "        dictionary=dictionary,\n",
    "        coherence='c_v'\n",
    "    )\n",
    "\n",
    "    overall_coherence = coherence_model.get_coherence()\n",
    "    topic_coherences = coherence_model.get_coherence_per_topic()\n",
    "\n",
    "    topic_data = []\n",
    "    for i, (topic_num, size, coherence) in enumerate(zip(topic_nums, topic_sizes, topic_coherences)):\n",
    "        top_words = \", \".join(topics[i][:10])\n",
    "        topic_data.append({\n",
    "            'Topic': i,\n",
    "            'Size': size,\n",
    "            'Coherence': coherence,\n",
    "            'Top Words': top_words\n",
    "        })\n",
    "\n",
    "    topic_df = pd.DataFrame(topic_data)\n",
    "\n",
    "    return overall_coherence, topic_df\n"
   ]
  },
  {
   "cell_type": "markdown",
   "metadata": {},
   "source": [
    "## 4.3 Evaluation Pipeline "
   ]
  },
  {
   "cell_type": "code",
   "execution_count": 29,
   "metadata": {},
   "outputs": [],
   "source": [
    "# Function to evaluate models\n",
    "def evaluate_models(models, texts_tokens):\n",
    "    \"\"\"\n",
    "    Evaluate all models using coherence scores\n",
    "    \"\"\"\n",
    "    results = {}\n",
    "    topic_dfs = {}\n",
    "    \n",
    "    for name, model in models.items():\n",
    "        print(f\"\\nEvaluating {name} model...\")\n",
    "        overall_coherence, topic_df = calculate_coherence(model, texts_tokens)\n",
    "        results[name] = overall_coherence\n",
    "        topic_dfs[name] = topic_df\n",
    "        \n",
    "        print(f\"Model: {name}\")\n",
    "        print(f\"Number of topics: {len(topic_df)}\")\n",
    "        print(f\"Overall coherence score (C_v): {overall_coherence:.4f}\")\n",
    "        print(f\"Average topic coherence: {topic_df['Coherence'].mean():.4f}\")\n",
    "        print(f\"Min topic coherence: {topic_df['Coherence'].min():.4f}\")\n",
    "        print(f\"Max topic coherence: {topic_df['Coherence'].max():.4f}\")\n",
    "    \n",
    "    return results, topic_dfs"
   ]
  },
  {
   "cell_type": "code",
   "execution_count": 30,
   "metadata": {},
   "outputs": [],
   "source": [
    "# Compare the 3 models\n",
    "# Function to visualize coherence scores\n",
    "def display_coherence_table(results, topic_dfs):\n",
    "    df = pd.DataFrame([\n",
    "        {\n",
    "            'Model': model,\n",
    "            'Num Topics': len(topic_dfs[model]),\n",
    "            'Overall Coherence (C_v)': results[model],\n",
    "            'Avg Topic Coherence': topic_dfs[model]['Coherence'].mean(),\n",
    "            'Max Topic Coherence': topic_dfs[model]['Coherence'].max(),\n",
    "            'Min Topic Coherence': topic_dfs[model]['Coherence'].min()\n",
    "        }\n",
    "        for model in results\n",
    "    ])\n",
    "    \n",
    "    return df.style.background_gradient(cmap='Blues').format(precision=4)\n",
    "\n",
    "def jaccard_similarity(set1, set2):\n",
    "    return len(set1 & set2) / len(set1 | set2)\n",
    "\n",
    "def plot_model_topic_overlap(models, top_n=10):\n",
    "    model_names = list(models.keys())\n",
    "    n = len(model_names)\n",
    "    overlap_matrix = np.zeros((n, n))\n",
    "\n",
    "    # Extract topics for each model\n",
    "    model_topics = {\n",
    "        name: [set(words[:top_n]) for words in model.get_topics()[0]]\n",
    "        for name, model in models.items()\n",
    "    }\n",
    "\n",
    "    for i, name_i in enumerate(model_names):\n",
    "        for j, name_j in enumerate(model_names):\n",
    "            if i == j:\n",
    "                overlap_matrix[i, j] = 1.0\n",
    "            else:\n",
    "                overlaps = [\n",
    "                    max(jaccard_similarity(t1, t2) for t2 in model_topics[name_j])\n",
    "                    for t1 in model_topics[name_i]\n",
    "                ]\n",
    "                overlap_matrix[i, j] = np.mean(overlaps)\n",
    "\n",
    "    plt.figure(figsize=(8, 6))\n",
    "    sns.heatmap(overlap_matrix, annot=True, xticklabels=model_names, yticklabels=model_names, cmap='YlGnBu')\n",
    "    plt.title(\"Average Jaccard Similarity of Topics Between Models\")\n",
    "    plt.show()\n",
    "    \n",
    "def compare_document_clustering(models, df, text_column='cleaned_text'):\n",
    "    \"\"\"\n",
    "    Compare how documents are clustered by different models\n",
    "    \"\"\"\n",
    "    sample_size = min(5, len(df))\n",
    "    sample_indices = np.random.choice(range(len(df)), sample_size, replace=False)\n",
    "    \n",
    "    results = []\n",
    "\n",
    "    for idx in sample_indices:\n",
    "        doc_text = df.iloc[idx][text_column]\n",
    "        doc_id = df.iloc[idx]['id']\n",
    "        doc_result = {\n",
    "            'Document': doc_text[:100] + '...' if len(doc_text) > 100 else doc_text\n",
    "        }\n",
    "\n",
    "        for name, model in models.items():\n",
    "            try:\n",
    "                # Convert doc_id lookup for NumPy array\n",
    "                doc_idx = np.where(model.document_ids == doc_id)[0][0]\n",
    "\n",
    "                # Get document-topic mapping\n",
    "                doc_topics = model.get_documents_topics([doc_idx])[0]\n",
    "                topic_num = doc_topics[0] if isinstance(doc_topics, (list, np.ndarray)) else doc_topics\n",
    "\n",
    "                # Get topic words using your get_topics() structure\n",
    "                topic_words, _, topic_nums = model.get_topics()\n",
    "                topic_index = np.where(topic_nums == topic_num)[0][0]\n",
    "                top_words = topic_words[topic_index][:5]\n",
    "\n",
    "                doc_result[f'{name}_topic'] = topic_num\n",
    "                doc_result[f'{name}_top_words'] = ', '.join(top_words)\n",
    "\n",
    "            except Exception as e:\n",
    "                doc_result[f'{name}_topic'] = 'Error'\n",
    "                doc_result[f'{name}_top_words'] = f'Failed: {e}'\n",
    "\n",
    "        results.append(doc_result)\n",
    "\n",
    "    comparison_df = pd.DataFrame(results)\n",
    "    return comparison_df\n"
   ]
  },
  {
   "cell_type": "code",
   "execution_count": 31,
   "metadata": {},
   "outputs": [
    {
     "name": "stdout",
     "output_type": "stream",
     "text": [
      "\n",
      "Evaluating doc2vec model...\n",
      "Model: doc2vec\n",
      "Number of topics: 2\n",
      "Overall coherence score (C_v): 0.2615\n",
      "Average topic coherence: 0.2615\n",
      "Min topic coherence: 0.2385\n",
      "Max topic coherence: 0.2845\n",
      "\n",
      "Evaluating sbert model...\n",
      "Model: sbert\n",
      "Number of topics: 2\n",
      "Overall coherence score (C_v): 0.2205\n",
      "Average topic coherence: 0.2205\n",
      "Min topic coherence: 0.1994\n",
      "Max topic coherence: 0.2416\n"
     ]
    },
    {
     "data": {
      "image/png": "[encoded data removed]",
      "text/plain": [
       "<Figure size 800x600 with 2 Axes>"
      ]
     },
     "metadata": {},
     "output_type": "display_data"
    },
    {
     "data": {
      "text/html": [
       "<div>\n",
       "<style scoped>\n",
       "    .dataframe tbody tr th:only-of-type {\n",
       "        vertical-align: middle;\n",
       "    }\n",
       "\n",
       "    .dataframe tbody tr th {\n",
       "        vertical-align: top;\n",
       "    }\n",
       "\n",
       "    .dataframe thead th {\n",
       "        text-align: right;\n",
       "    }\n",
       "</style>\n",
       "<table border=\"1\" class=\"dataframe\">\n",
       "  <thead>\n",
       "    <tr style=\"text-align: right;\">\n",
       "      <th></th>\n",
       "      <th>Document</th>\n",
       "      <th>doc2vec_topic</th>\n",
       "      <th>doc2vec_top_words</th>\n",
       "      <th>sbert_topic</th>\n",
       "      <th>sbert_top_words</th>\n",
       "    </tr>\n",
       "  </thead>\n",
       "  <tbody>\n",
       "    <tr>\n",
       "      <th>0</th>\n",
       "      <td>knowledge tools need record produce sounding m...</td>\n",
       "      <td>0</td>\n",
       "      <td>series, fundamentals, problems, end, assessments</td>\n",
       "      <td>0</td>\n",
       "      <td>courses, programming, developing, develop, app...</td>\n",
       "    </tr>\n",
       "    <tr>\n",
       "      <th>1</th>\n",
       "      <td>intended novice business professionals seeking...</td>\n",
       "      <td>0</td>\n",
       "      <td>series, fundamentals, problems, end, assessments</td>\n",
       "      <td>0</td>\n",
       "      <td>courses, programming, developing, develop, app...</td>\n",
       "    </tr>\n",
       "    <tr>\n",
       "      <th>2</th>\n",
       "      <td>graphic design myriad forms screen print image...</td>\n",
       "      <td>0</td>\n",
       "      <td>series, fundamentals, problems, end, assessments</td>\n",
       "      <td>0</td>\n",
       "      <td>courses, programming, developing, develop, app...</td>\n",
       "    </tr>\n",
       "    <tr>\n",
       "      <th>3</th>\n",
       "      <td>courses taken academic credit ecea boulders ma...</td>\n",
       "      <td>0</td>\n",
       "      <td>series, fundamentals, problems, end, assessments</td>\n",
       "      <td>0</td>\n",
       "      <td>courses, programming, developing, develop, app...</td>\n",
       "    </tr>\n",
       "    <tr>\n",
       "      <th>4</th>\n",
       "      <td>takes critical look digital advertising tactic...</td>\n",
       "      <td>0</td>\n",
       "      <td>series, fundamentals, problems, end, assessments</td>\n",
       "      <td>0</td>\n",
       "      <td>courses, programming, developing, develop, app...</td>\n",
       "    </tr>\n",
       "  </tbody>\n",
       "</table>\n",
       "</div>"
      ],
      "text/plain": [
       "                                            Document  doc2vec_topic  \\\n",
       "0  knowledge tools need record produce sounding m...              0   \n",
       "1  intended novice business professionals seeking...              0   \n",
       "2  graphic design myriad forms screen print image...              0   \n",
       "3  courses taken academic credit ecea boulders ma...              0   \n",
       "4  takes critical look digital advertising tactic...              0   \n",
       "\n",
       "                                  doc2vec_top_words  sbert_topic  \\\n",
       "0  series, fundamentals, problems, end, assessments            0   \n",
       "1  series, fundamentals, problems, end, assessments            0   \n",
       "2  series, fundamentals, problems, end, assessments            0   \n",
       "3  series, fundamentals, problems, end, assessments            0   \n",
       "4  series, fundamentals, problems, end, assessments            0   \n",
       "\n",
       "                                     sbert_top_words  \n",
       "0  courses, programming, developing, develop, app...  \n",
       "1  courses, programming, developing, develop, app...  \n",
       "2  courses, programming, developing, develop, app...  \n",
       "3  courses, programming, developing, develop, app...  \n",
       "4  courses, programming, developing, develop, app...  "
      ]
     },
     "execution_count": 31,
     "metadata": {},
     "output_type": "execute_result"
    }
   ],
   "source": [
    "# Function to run the evaluation pipeline\n",
    "def run_evaluation_pipeline(models, df, text_column='cleaned_text'):\n",
    "    \"\"\"\n",
    "    Run the entire evaluation pipeline\n",
    "    \"\"\"\n",
    "    # Tokenize text\n",
    "    texts_tokens = [text.split() for text in df[text_column]]\n",
    "    \n",
    "    # Evaluate models\n",
    "    results, topic_dfs = evaluate_models(models, texts_tokens)\n",
    "    \n",
    "    # Visualize coherence scores\n",
    "    display_coherence_table(results, topic_dfs)\n",
    "    plot_model_topic_overlap(models)\n",
    "    \n",
    "    # Compare document clustering\n",
    "    comparison_df = compare_document_clustering(models, df, text_column)\n",
    "    \n",
    "    return results, topic_dfs, comparison_df\n",
    "\n",
    "#Apply the functions\n",
    "results, topic_dfs, comparison_df = run_evaluation_pipeline(models, df_program)\n",
    "comparison_df.head()"
   ]
  }
 ],
 "metadata": {
  "kernelspec": {
   "display_name": "Python 3",
   "language": "python",
   "name": "python3"
  },
  "language_info": {
   "codemirror_mode": {
    "name": "ipython",
    "version": 3
   },
   "file_extension": ".py",
   "mimetype": "text/x-python",
   "name": "python",
   "nbconvert_exporter": "python",
   "pygments_lexer": "ipython3",
   "version": "3.10.11"
  }
 },
 "nbformat": 4,
 "nbformat_minor": 2
}
