{
 "cells": [
  {
   "cell_type": "markdown",
   "metadata": {},
   "source": [
    "# Using LDA to conduct topic modelling on Coursera data\n",
    "\n",
    "<strong>The descriptions and summaries will be aggregated into a bag-of-words and the LDA model from Gensim will be used to generate n topics for each program (decided using grid search).</strong>"
   ]
  },
  {
   "cell_type": "markdown",
   "metadata": {},
   "source": [
    "## (1) Import libraries and coursera data into notebook"
   ]
  },
  {
   "cell_type": "code",
   "execution_count": 1,
   "metadata": {},
   "outputs": [],
   "source": [
    "import pandas as pd\n",
    "import re\n",
    "import spacy\n",
    "from spacy.lang.en.stop_words import STOP_WORDS\n",
    "from gensim import corpora\n",
    "from gensim.models import LdaModel\n",
    "from gensim.models import CoherenceModel\n",
    "\n",
    "import numpy as np\n"
   ]
  },
  {
   "cell_type": "code",
   "execution_count": 9,
   "metadata": {},
   "outputs": [],
   "source": [
    "# Step 1: Extract and preprocess documents\n",
    "documents = []\n",
    "for i in range(475):  # Your 475 files\n",
    "    file_path = f\"../corpus/program{i}.txt\"\n",
    "    with open(file_path, 'r') as file:\n",
    "        content = file.read()\n",
    "        # Extract content between DOC tags\n",
    "        docs = re.findall(r'<DOC>(.*?)</DOC>', content, re.DOTALL)\n",
    "        documents.extend(docs)"
   ]
  },
  {
   "cell_type": "markdown",
   "metadata": {},
   "source": [
    "## (2) Cleaning and preprocessing text to create dictionary for LDA model"
   ]
  },
  {
   "cell_type": "code",
   "execution_count": 3,
   "metadata": {},
   "outputs": [],
   "source": [
    "nlp = spacy.load(\"en_core_web_sm\")"
   ]
  },
  {
   "cell_type": "code",
   "execution_count": 12,
   "metadata": {},
   "outputs": [],
   "source": [
    "coursera_stopwords = { # extension of the stop words - for now this is all I have, but feel free to add on more \n",
    "    \"\\n\", \"course\", \"program\", \"learn\", \"learning\", \"outcome\", \"outcomes\",\n",
    "    \"description\", \"skill\", \"skills\", \"module\", \"modules\", \"specialization\",\n",
    "    \"specialisation\", \"certificate\", \"certificates\", \"certificate,\", \"certificates,\",\n",
    "    \"professional\", \"career\", \"opportunity\", \"opportunities\", \"project\", \"projects\", \"work\", \"experience\", \"experiences\"\n",
    "}\n",
    "STOP_WORDS = STOP_WORDS.union(coursera_stopwords)\n",
    "\n",
    "def preprocess_text(text: str):\n",
    "    '''\n",
    "    preprocessing \n",
    "    1. lowercase conversion \n",
    "    2. removing nonalphanum\n",
    "    3. stopwords, puncutation, short token and frequent short token removal\n",
    "    '''\n",
    "    doc = nlp(text)\n",
    "    tokens = []\n",
    "    for token in doc:\n",
    "        if (token.lemma_ not in STOP_WORDS):\n",
    "            tokens.append(token.lemma_)\n",
    "    return tokens"
   ]
  },
  {
   "cell_type": "code",
   "execution_count": 15,
   "metadata": {},
   "outputs": [],
   "source": [
    "# creating a dictionary for the LDA model\n",
    "docs = [preprocess_text(doc) for doc in documents]\n",
    "dictionary_prog = corpora.Dictionary(docs)\n",
    "dictionary_prog.filter_extremes(no_below=5, no_above=0.5)"
   ]
  },
  {
   "cell_type": "code",
   "execution_count": 16,
   "metadata": {},
   "outputs": [
    {
     "name": "stdout",
     "output_type": "stream",
     "text": [
      "Number of unique tokens in dictionary: 6048\n",
      "Example BOW for the first document: [(0, 1), (1, 1), (2, 1), (3, 1), (4, 1)]\n"
     ]
    }
   ],
   "source": [
    "# creating BOW corpus\n",
    "bow_corpus_prog = [dictionary_prog.doc2bow(doc) for doc in docs]\n",
    "print(f\"Number of unique tokens in dictionary: {len(dictionary_prog)}\")\n",
    "# print(bow_corpus_prog)\n",
    "# print(bow_corpus_prog[0])\n",
    "print(\"Example BOW for the first document:\", bow_corpus_prog[0][:5])\n"
   ]
  },
  {
   "cell_type": "markdown",
   "metadata": {},
   "source": [
    "## (3) Calculating coherence score + Best number of topics through grid-search "
   ]
  },
  {
   "cell_type": "code",
   "execution_count": 18,
   "metadata": {},
   "outputs": [
    {
     "name": "stdout",
     "output_type": "stream",
     "text": [
      "Coherence Values: [0.3778542942059359, 0.45786182162013944, 0.48045017530713086, 0.48176933293730817, 0.45535870266646294]\n",
      "Best number of topics: 20 with Coherence = 0.4818\n"
     ]
    }
   ],
   "source": [
    "def compute_coherence_values(dictionary, corpus, texts, start, limit, step):\n",
    "    \"\"\"\n",
    "    Computes c_v coherence for various values of num_topics.\n",
    "    \n",
    "    Returns:\n",
    "        model_list: List of trained LdaModel\n",
    "        coherence_values: Coherence values corresponding to the models\n",
    "    \"\"\"\n",
    "    coherence_values = []\n",
    "    model_list = []\n",
    "    \n",
    "    for num_topics in range(start, limit, step):\n",
    "        model = LdaModel(\n",
    "            corpus=corpus,\n",
    "            id2word=dictionary,\n",
    "            num_topics=num_topics,\n",
    "            random_state=42,\n",
    "            passes=10,       # tweak for more stable training\n",
    "            alpha='auto',    # auto tuning of alpha by gensim\n",
    "            per_word_topics=True\n",
    "        )\n",
    "        model_list.append(model)\n",
    "        \n",
    "        # calcuate coherence score\n",
    "        coherencemodel = CoherenceModel(\n",
    "            model=model, \n",
    "            texts=texts, \n",
    "            dictionary=dictionary,\n",
    "            coherence='c_v'\n",
    "        )\n",
    "        coherence_values.append(coherencemodel.get_coherence())\n",
    "    \n",
    "    return model_list, coherence_values\n",
    "\n",
    "start, limit, step = 5, 26, 5  \n",
    "model_list, coherence_values = compute_coherence_values(\n",
    "    dictionary_prog, \n",
    "    bow_corpus_prog, \n",
    "    docs, \n",
    "    start, \n",
    "    limit, \n",
    "    step\n",
    ")\n",
    "\n",
    "# identifying best coherence\n",
    "best_index = np.argmax(coherence_values)\n",
    "optimal_num_topics = range(start, limit, step)[best_index]\n",
    "best_model = model_list[best_index]\n",
    "best_coherence = coherence_values[best_index]\n",
    "print(\"Coherence Values:\", coherence_values)\n",
    "print(f\"Best number of topics: {optimal_num_topics} with Coherence = {best_coherence:.4f}\")\n"
   ]
  },
  {
   "cell_type": "markdown",
   "metadata": {},
   "source": [
    "## (4) Viewing top words for each topic"
   ]
  },
  {
   "cell_type": "code",
   "execution_count": 9,
   "metadata": {},
   "outputs": [
    {
     "name": "stdout",
     "output_type": "stream",
     "text": [
      "\n",
      "Topic 0 top words: ['machine', 'programming', 'build', 'model', 'image', 'datum', 'application', 'java', 'language', 'tensorflow']\n",
      "\n",
      "Topic 1 top words: ['application', 'web', 'design', 'build', 'create', 'technology', 'blockchain', 'learner', 'develop', 'game']\n",
      "\n",
      "Topic 2 top words: ['datum', 'data', 'science', 'analysis', 'create', 'python', 'tool', 'database', 'analyze', 'sql']\n",
      "\n",
      "Topic 3 top words: ['marketing', 'create', 'social', 'digital', 'business', 'product', 'strategy', 'music', 'brand', 'practice']\n",
      "\n",
      "Topic 4 top words: ['design', 'business', 'job', 'new', 'create', 'management', 'analytic', 'customer', 'product', 'tool']\n",
      "\n",
      "Topic 5 top words: ['cloud', 'google', 'network', 'cybersecurity', 'handson', 'security', 'lab', 'certification', 'new', 'engineer']\n",
      "\n",
      "Topic 6 top words: ['health', 'design', 'healthcare', 'patient', 'learner', 'care', 'develop', 'human', 'new', 'field']\n",
      "\n",
      "Topic 7 top words: ['datum', 'learner', 'business', 'model', 'analysis', 'complete', 'new', 'teach', 'technique', 'statistical']\n",
      "\n",
      "Topic 8 top words: ['financial', 'business', 'system', 'finance', 'management', 'accounting', 'understand', 'strategy', 'develop', 'knowledge']\n",
      "\n",
      "Topic 9 top words: ['cloud', 'practice', 'solution', 'service', 'develop', 'azure', 'microsoft', 'technology', 'management', 'business']\n"
     ]
    }
   ],
   "source": [
    "for idx in range(optimal_num_topics):\n",
    "    terms = best_model.get_topic_terms(idx, topn=10)\n",
    "    term_words = [dictionary_prog[term_id] for term_id, _ in terms]\n",
    "    print(f\"\\nTopic {idx} top words: {term_words}\")\n"
   ]
  }
 ],
 "metadata": {
  "kernelspec": {
   "display_name": "Python 3",
   "language": "python",
   "name": "python3"
  },
  "language_info": {
   "codemirror_mode": {
    "name": "ipython",
    "version": 3
   },
   "file_extension": ".py",
   "mimetype": "text/x-python",
   "name": "python",
   "nbconvert_exporter": "python",
   "pygments_lexer": "ipython3",
   "version": "3.12.3"
  }
 },
 "nbformat": 4,
 "nbformat_minor": 2
}
