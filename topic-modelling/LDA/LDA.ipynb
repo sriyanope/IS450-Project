{
 "cells": [
  {
   "cell_type": "markdown",
   "metadata": {},
   "source": [
    "# Using LDA to conduct topic modelling on Coursera data\n",
    "\n",
    "<strong>The descriptions and summaries will be aggregated into a bag-of-words and the LDA model from Gensim will be used to generate n topics for each program (decided using grid search).</strong>"
   ]
  },
  {
   "cell_type": "markdown",
   "metadata": {},
   "source": [
    "## (1) Import libraries and coursera data into notebook"
   ]
  },
  {
   "cell_type": "code",
   "execution_count": 1,
   "metadata": {},
   "outputs": [],
   "source": [
    "import pandas as pd\n",
    "import re\n",
    "import spacy\n",
    "from spacy.lang.en.stop_words import STOP_WORDS\n",
    "from gensim import corpora\n",
    "from gensim.models import LdaModel\n",
    "from gensim.models import CoherenceModel\n",
    "\n",
    "import numpy as np\n"
   ]
  },
  {
   "cell_type": "code",
   "execution_count": 2,
   "metadata": {},
   "outputs": [
    {
     "data": {
      "text/html": [
       "<div>\n",
       "<style scoped>\n",
       "    .dataframe tbody tr th:only-of-type {\n",
       "        vertical-align: middle;\n",
       "    }\n",
       "\n",
       "    .dataframe tbody tr th {\n",
       "        vertical-align: top;\n",
       "    }\n",
       "\n",
       "    .dataframe thead th {\n",
       "        text-align: right;\n",
       "    }\n",
       "</style>\n",
       "<table border=\"1\" class=\"dataframe\">\n",
       "  <thead>\n",
       "    <tr style=\"text-align: right;\">\n",
       "      <th></th>\n",
       "      <th>id</th>\n",
       "      <th>prog_title</th>\n",
       "      <th>org</th>\n",
       "      <th>cert_type</th>\n",
       "      <th>enrolled</th>\n",
       "      <th>num_courses</th>\n",
       "      <th>rating</th>\n",
       "      <th>num_reviews</th>\n",
       "      <th>difficulty</th>\n",
       "      <th>prog_lo_description</th>\n",
       "      <th>prog_lo_skills</th>\n",
       "      <th>prog_description</th>\n",
       "      <th>course_title_description_skills</th>\n",
       "      <th>url</th>\n",
       "    </tr>\n",
       "  </thead>\n",
       "  <tbody>\n",
       "    <tr>\n",
       "      <th>0</th>\n",
       "      <td>0</td>\n",
       "      <td>ISC2 Systems Security Certified Practitioner (...</td>\n",
       "      <td>ISC2</td>\n",
       "      <td>Specialization</td>\n",
       "      <td>22,401</td>\n",
       "      <td>7</td>\n",
       "      <td>4.8</td>\n",
       "      <td>973.0</td>\n",
       "      <td>Beginner</td>\n",
       "      <td>Implement, monitor and administer an organizat...</td>\n",
       "      <td>Security Engineering;Network Security;Leadersh...</td>\n",
       "      <td>Pursue better IT security job opportunities an...</td>\n",
       "      <td>Security Concepts and Practices|Course 1 - Sec...</td>\n",
       "      <td>https://www.coursera.org/specializations/sscp-...</td>\n",
       "    </tr>\n",
       "    <tr>\n",
       "      <th>1</th>\n",
       "      <td>1</td>\n",
       "      <td>.NET FullStack Developer Specialization</td>\n",
       "      <td>Board Infinity</td>\n",
       "      <td>Specialization</td>\n",
       "      <td>11,753</td>\n",
       "      <td>3</td>\n",
       "      <td>4.1</td>\n",
       "      <td>259.0</td>\n",
       "      <td>Intermediate</td>\n",
       "      <td>Master .NET full stack web dev: from .NET core...</td>\n",
       "      <td>Model–View–Controller (MVC);HTML;React (Web Fr...</td>\n",
       "      <td>Develop the proficiency required to design and...</td>\n",
       "      <td>.Net Full Stack Foundation|Understand .NET fra...</td>\n",
       "      <td>https://www.coursera.org/specializations/dot-n...</td>\n",
       "    </tr>\n",
       "    <tr>\n",
       "      <th>2</th>\n",
       "      <td>2</td>\n",
       "      <td>AI For Business Specialization</td>\n",
       "      <td>University of Pennsylvania</td>\n",
       "      <td>Specialization</td>\n",
       "      <td>39,842</td>\n",
       "      <td>4</td>\n",
       "      <td>4.7</td>\n",
       "      <td>1.0</td>\n",
       "      <td>Beginner</td>\n",
       "      <td>NaN</td>\n",
       "      <td>Machine Learning;Machine Learning Algorithms;A...</td>\n",
       "      <td>This specialization will provide learners with...</td>\n",
       "      <td>AI Fundamentals for Non-Data Scientists|In thi...</td>\n",
       "      <td>https://www.coursera.org/specializations/ai-fo...</td>\n",
       "    </tr>\n",
       "    <tr>\n",
       "      <th>3</th>\n",
       "      <td>3</td>\n",
       "      <td>AI Foundations for Everyone Specialization</td>\n",
       "      <td>IBM</td>\n",
       "      <td>Specialization</td>\n",
       "      <td>44,046</td>\n",
       "      <td>4</td>\n",
       "      <td>4.7</td>\n",
       "      <td>3.0</td>\n",
       "      <td>Beginner</td>\n",
       "      <td>NaN</td>\n",
       "      <td>Cloud Computing;Human Computer Interaction;Hum...</td>\n",
       "      <td>Artificial Intelligence (AI) is no longer scie...</td>\n",
       "      <td>Introduction to Artificial Intelligence (AI)|D...</td>\n",
       "      <td>https://www.coursera.org/specializations/ai-fo...</td>\n",
       "    </tr>\n",
       "    <tr>\n",
       "      <th>4</th>\n",
       "      <td>4</td>\n",
       "      <td>AI Product Management Specialization</td>\n",
       "      <td>Duke University</td>\n",
       "      <td>Specialization</td>\n",
       "      <td>40,831</td>\n",
       "      <td>3</td>\n",
       "      <td>4.7</td>\n",
       "      <td>636.0</td>\n",
       "      <td>Beginner</td>\n",
       "      <td>Identify when and how machine learning can app...</td>\n",
       "      <td>Machine Learning;Machine Learning Algorithms;A...</td>\n",
       "      <td>Organizations in every industry are accelerati...</td>\n",
       "      <td>Machine Learning Foundations for Product Manag...</td>\n",
       "      <td>https://www.coursera.org/specializations/ai-pr...</td>\n",
       "    </tr>\n",
       "  </tbody>\n",
       "</table>\n",
       "</div>"
      ],
      "text/plain": [
       "   id                                         prog_title  \\\n",
       "0   0  ISC2 Systems Security Certified Practitioner (...   \n",
       "1   1            .NET FullStack Developer Specialization   \n",
       "2   2                     AI For Business Specialization   \n",
       "3   3         AI Foundations for Everyone Specialization   \n",
       "4   4               AI Product Management Specialization   \n",
       "\n",
       "                          org       cert_type enrolled  num_courses  rating  \\\n",
       "0                        ISC2  Specialization   22,401            7     4.8   \n",
       "1             Board Infinity   Specialization   11,753            3     4.1   \n",
       "2  University of Pennsylvania  Specialization   39,842            4     4.7   \n",
       "3                         IBM  Specialization   44,046            4     4.7   \n",
       "4             Duke University  Specialization   40,831            3     4.7   \n",
       "\n",
       "   num_reviews    difficulty  \\\n",
       "0        973.0      Beginner   \n",
       "1        259.0  Intermediate   \n",
       "2          1.0      Beginner   \n",
       "3          3.0      Beginner   \n",
       "4        636.0      Beginner   \n",
       "\n",
       "                                 prog_lo_description  \\\n",
       "0  Implement, monitor and administer an organizat...   \n",
       "1  Master .NET full stack web dev: from .NET core...   \n",
       "2                                                NaN   \n",
       "3                                                NaN   \n",
       "4  Identify when and how machine learning can app...   \n",
       "\n",
       "                                      prog_lo_skills  \\\n",
       "0  Security Engineering;Network Security;Leadersh...   \n",
       "1  Model–View–Controller (MVC);HTML;React (Web Fr...   \n",
       "2  Machine Learning;Machine Learning Algorithms;A...   \n",
       "3  Cloud Computing;Human Computer Interaction;Hum...   \n",
       "4  Machine Learning;Machine Learning Algorithms;A...   \n",
       "\n",
       "                                    prog_description  \\\n",
       "0  Pursue better IT security job opportunities an...   \n",
       "1  Develop the proficiency required to design and...   \n",
       "2  This specialization will provide learners with...   \n",
       "3  Artificial Intelligence (AI) is no longer scie...   \n",
       "4  Organizations in every industry are accelerati...   \n",
       "\n",
       "                     course_title_description_skills  \\\n",
       "0  Security Concepts and Practices|Course 1 - Sec...   \n",
       "1  .Net Full Stack Foundation|Understand .NET fra...   \n",
       "2  AI Fundamentals for Non-Data Scientists|In thi...   \n",
       "3  Introduction to Artificial Intelligence (AI)|D...   \n",
       "4  Machine Learning Foundations for Product Manag...   \n",
       "\n",
       "                                                 url  \n",
       "0  https://www.coursera.org/specializations/sscp-...  \n",
       "1  https://www.coursera.org/specializations/dot-n...  \n",
       "2  https://www.coursera.org/specializations/ai-fo...  \n",
       "3  https://www.coursera.org/specializations/ai-fo...  \n",
       "4  https://www.coursera.org/specializations/ai-pr...  "
      ]
     },
     "execution_count": 2,
     "metadata": {},
     "output_type": "execute_result"
    }
   ],
   "source": [
    "df_prog = pd.read_csv(\"../../data/prog_scraped.csv\")\n",
    "df_course = pd.read_csv(\"../../data/course_scraped.csv\")\n",
    "df_module = pd.read_csv(\"../../data/module_scraped.csv\")\n",
    "\n",
    "df_prog.rename(columns={\"Unnamed: 0\": \"id\"}, inplace=True)\n",
    "\n",
    "df_prog.head()\n",
    "\n"
   ]
  },
  {
   "cell_type": "markdown",
   "metadata": {},
   "source": [
    "## (2) Cleaning and preprocessing text to create dictionary for LDA model"
   ]
  },
  {
   "cell_type": "code",
   "execution_count": 3,
   "metadata": {},
   "outputs": [],
   "source": [
    "nlp = spacy.load(\"en_core_web_sm\")"
   ]
  },
  {
   "cell_type": "code",
   "execution_count": 4,
   "metadata": {},
   "outputs": [
    {
     "name": "stdout",
     "output_type": "stream",
     "text": [
      "nan removed\n"
     ]
    }
   ],
   "source": [
    "df_prog[\"prog_description\"] = df_prog[\"prog_description\"].fillna(\"\")\n",
    "df_prog[\"prog_lo_description\"] = df_prog[\"prog_lo_description\"].fillna(\"\")\n",
    "\n",
    "print('nan removed')"
   ]
  },
  {
   "cell_type": "code",
   "execution_count": 5,
   "metadata": {},
   "outputs": [
    {
     "name": "stdout",
     "output_type": "stream",
     "text": [
      "Combined data for row 0:\n",
      " Pursue better IT security job opportunities and prove knowledge with confidence. The SSCP Professional Training Certificate shows employers you have the IT security foundation to defend against cyber attacks – and puts you on a clear path to earning SSCP certification.;Upon completing the SSCP Professional Certificate, you will:;Complete seven courses of preparing you to sit for the Systems Security Certified Practitioner (SSCP) certification exam Opens in a new tabas outlined below.;Course 1 - Security Concepts and Practices;Course 2 - Access Controls;Course 3 - Risk Identification, Monitoring, and Analysis;Course 4 - Incident Response and Recovery;Course 5 - Cryptography;Course 6 - Network and Communications Security;Course 7 - Systems and Application Security;Receive a certificate of program completion.;Understand how to implement, monitor and administer an organization’s IT infrastructure in accordance with security policies and procedures that ensure data confidentiality, integrity and availability.;Applied Learning Project;Each course includes a final assessment and knowledge checks that will require students to put into practice the knowledge they have gained throughout each course. Successful completion of assessments will require the basic understanding of the topics covered and the ability to relate those topics to the real world.  Implement, monitor and administer an organization’s IT infrastructure\n"
     ]
    }
   ],
   "source": [
    "def combine_text(row):\n",
    "    '''\n",
    "    combines the lo_description (meant act as the summary) and the program description for ease in topic modelling\n",
    "    '''\n",
    "    lo_descriptions = row[\"prog_lo_description\"].split(\";\") \n",
    "    lo_text = \" \".join(lo_descriptions)\n",
    "    combined = row[\"prog_description\"] + \" \" + lo_text\n",
    "    return combined\n",
    "df_prog[\"combined_text\"] = df_prog.apply(combine_text, axis=1)\n",
    "print(\"Combined data for row 0:\\n\", df_prog[\"combined_text\"][0])"
   ]
  },
  {
   "cell_type": "code",
   "execution_count": 6,
   "metadata": {},
   "outputs": [
    {
     "name": "stdout",
     "output_type": "stream",
     "text": [
      "Tokens: ['pursue', 'security', 'job', 'prove', 'knowledge', 'confidence', 'sscp', 'training', 'employer', 'security', 'foundation', 'defend', 'cyber', 'attack', 'clear', 'path', 'earn', 'sscp', 'certificationupon', 'complete', 'sscp', 'willcomplete', 'seven', 'prepare', 'sit', 'system', 'security', 'certify', 'practitioner', 'sscp', 'certification', 'exam', 'open', 'new', 'tabas', 'outline', 'belowcourse', 'security', 'concept', 'practicescourse', 'access', 'controlscourse', 'risk', 'identification', 'monitoring', 'analysiscourse', 'incident', 'response', 'recoverycourse', 'cryptographycourse', 'network', 'communication', 'securitycourse', 'system', 'application', 'securityreceive', 'completionunderstand', 'implement', 'monitor', 'administer', 'organization', 'infrastructure', 'accordance', 'security', 'policy', 'procedure', 'ensure', 'datum', 'confidentiality', 'integrity', 'availabilityapplie', 'projecteach', 'include', 'final', 'assessment', 'knowledge', 'check', 'require', 'student', 'practice', 'knowledge', 'gain', 'successful', 'completion', 'assessment', 'require', 'basic', 'understanding', 'topic', 'cover', 'ability', 'relate', 'topic', 'real', 'world', 'implement', 'monitor', 'administer', 'organization', 'infrastructure']\n"
     ]
    }
   ],
   "source": [
    "coursera_stopwords = { # extension of the stop words - for now this is all I have, but feel free to add on more \n",
    "    \"course\", \"program\", \"learn\", \"learning\", \"outcome\", \"outcomes\",\n",
    "    \"description\", \"skill\", \"skills\", \"module\", \"modules\", \"specialization\",\n",
    "    \"specialisation\", \"certificate\", \"certificates\", \"certificate,\", \"certificates,\",\n",
    "    \"professional\", \"career\", \"opportunity\", \"opportunities\", \"project\", \"projects\", \"work\", \"experience\", \"experiences\"\n",
    "}\n",
    "STOP_WORDS = STOP_WORDS.union(coursera_stopwords)\n",
    "\n",
    "def preprocess_text(text: str):\n",
    "    '''\n",
    "    preprocessing \n",
    "    1. lowercase conversion \n",
    "    2. removing nonalphanum\n",
    "    3. stopwords, puncutation, short token and frequent short token removal\n",
    "    '''\n",
    "    text = text.lower()\n",
    "    text = re.sub(r'[^a-zA-Z\\s]', '', text)\n",
    "    doc = nlp(text)\n",
    "    tokens = []\n",
    "    for token in doc:\n",
    "        if (token.lemma_ not in STOP_WORDS and token.lemma_.isalpha() and len(token.lemma_) > 2):\n",
    "            tokens.append(token.lemma_)\n",
    "    return tokens\n",
    "\n",
    "# apply preprocessing function\n",
    "df_prog[\"tokens\"] = df_prog[\"combined_text\"].apply(preprocess_text)\n",
    "print(\"Tokens:\", df_prog[\"tokens\"][0])\n"
   ]
  },
  {
   "cell_type": "code",
   "execution_count": 7,
   "metadata": {},
   "outputs": [
    {
     "name": "stdout",
     "output_type": "stream",
     "text": [
      "Number of unique tokens in dictionary: 1415\n",
      "Example BOW for the first document: [(0, 1), (1, 1), (2, 2), (3, 1), (4, 2)]\n"
     ]
    }
   ],
   "source": [
    "# creating a dictionary for the LDA model\n",
    "all_tokens = df_prog[\"tokens\"].tolist()\n",
    "dictionary_prog = corpora.Dictionary(all_tokens)\n",
    "dictionary_prog.filter_extremes(no_below=5, no_above=0.5)\n",
    "\n",
    "# creating BOW corpus\n",
    "bow_corpus_prog = [dictionary_prog.doc2bow(doc) for doc in all_tokens]\n",
    "print(f\"Number of unique tokens in dictionary: {len(dictionary_prog)}\")\n",
    "# print(bow_corpus_prog)\n",
    "# print(bow_corpus_prog[0])\n",
    "print(\"Example BOW for the first document:\", bow_corpus_prog[0][:5])\n"
   ]
  },
  {
   "cell_type": "markdown",
   "metadata": {},
   "source": [
    "## (3) Calculating coherence score + Best number of topics through grid-search "
   ]
  },
  {
   "cell_type": "code",
   "execution_count": 8,
   "metadata": {},
   "outputs": [
    {
     "name": "stdout",
     "output_type": "stream",
     "text": [
      "Coherence Values: [0.3147428853581383, 0.3756566704581427, 0.34795359237237833, 0.3614342856557239, 0.33794611460121565]\n",
      "Best number of topics: 10 with Coherence = 0.3757\n"
     ]
    }
   ],
   "source": [
    "def compute_coherence_values(dictionary, corpus, texts, start, limit, step):\n",
    "    \"\"\"\n",
    "    Computes c_v coherence for various values of num_topics.\n",
    "    \n",
    "    Returns:\n",
    "        model_list: List of trained LdaModel\n",
    "        coherence_values: Coherence values corresponding to the models\n",
    "    \"\"\"\n",
    "    coherence_values = []\n",
    "    model_list = []\n",
    "    \n",
    "    for num_topics in range(start, limit, step):\n",
    "        model = LdaModel(\n",
    "            corpus=corpus,\n",
    "            id2word=dictionary,\n",
    "            num_topics=num_topics,\n",
    "            random_state=42,\n",
    "            passes=10,       # tweak for more stable training\n",
    "            alpha='auto',    # auto tuning of alpha by gensim\n",
    "            per_word_topics=True\n",
    "        )\n",
    "        model_list.append(model)\n",
    "        \n",
    "        # calcuate coherence score\n",
    "        coherencemodel = CoherenceModel(\n",
    "            model=model, \n",
    "            texts=texts, \n",
    "            dictionary=dictionary,\n",
    "            coherence='c_v'\n",
    "        )\n",
    "        coherence_values.append(coherencemodel.get_coherence())\n",
    "    \n",
    "    return model_list, coherence_values\n",
    "\n",
    "start, limit, step = 5, 26, 5  \n",
    "model_list, coherence_values = compute_coherence_values(\n",
    "    dictionary_prog, \n",
    "    bow_corpus_prog, \n",
    "    all_tokens, \n",
    "    start, \n",
    "    limit, \n",
    "    step\n",
    ")\n",
    "\n",
    "# identifying best coherence\n",
    "best_index = np.argmax(coherence_values)\n",
    "optimal_num_topics = range(start, limit, step)[best_index]\n",
    "best_model = model_list[best_index]\n",
    "best_coherence = coherence_values[best_index]\n",
    "print(\"Coherence Values:\", coherence_values)\n",
    "print(f\"Best number of topics: {optimal_num_topics} with Coherence = {best_coherence:.4f}\")\n"
   ]
  },
  {
   "cell_type": "markdown",
   "metadata": {},
   "source": [
    "## (4) Viewing top words for each topic"
   ]
  },
  {
   "cell_type": "code",
   "execution_count": 9,
   "metadata": {},
   "outputs": [
    {
     "name": "stdout",
     "output_type": "stream",
     "text": [
      "\n",
      "Topic 0 top words: ['machine', 'programming', 'build', 'model', 'image', 'datum', 'application', 'java', 'language', 'tensorflow']\n",
      "\n",
      "Topic 1 top words: ['application', 'web', 'design', 'build', 'create', 'technology', 'blockchain', 'learner', 'develop', 'game']\n",
      "\n",
      "Topic 2 top words: ['datum', 'data', 'science', 'analysis', 'create', 'python', 'tool', 'database', 'analyze', 'sql']\n",
      "\n",
      "Topic 3 top words: ['marketing', 'create', 'social', 'digital', 'business', 'product', 'strategy', 'music', 'brand', 'practice']\n",
      "\n",
      "Topic 4 top words: ['design', 'business', 'job', 'new', 'create', 'management', 'analytic', 'customer', 'product', 'tool']\n",
      "\n",
      "Topic 5 top words: ['cloud', 'google', 'network', 'cybersecurity', 'handson', 'security', 'lab', 'certification', 'new', 'engineer']\n",
      "\n",
      "Topic 6 top words: ['health', 'design', 'healthcare', 'patient', 'learner', 'care', 'develop', 'human', 'new', 'field']\n",
      "\n",
      "Topic 7 top words: ['datum', 'learner', 'business', 'model', 'analysis', 'complete', 'new', 'teach', 'technique', 'statistical']\n",
      "\n",
      "Topic 8 top words: ['financial', 'business', 'system', 'finance', 'management', 'accounting', 'understand', 'strategy', 'develop', 'knowledge']\n",
      "\n",
      "Topic 9 top words: ['cloud', 'practice', 'solution', 'service', 'develop', 'azure', 'microsoft', 'technology', 'management', 'business']\n"
     ]
    }
   ],
   "source": [
    "for idx in range(optimal_num_topics):\n",
    "    terms = best_model.get_topic_terms(idx, topn=10)\n",
    "    term_words = [dictionary_prog[term_id] for term_id, _ in terms]\n",
    "    print(f\"\\nTopic {idx} top words: {term_words}\")\n"
   ]
  }
 ],
 "metadata": {
  "kernelspec": {
   "display_name": ".venv",
   "language": "python",
   "name": "python3"
  },
  "language_info": {
   "codemirror_mode": {
    "name": "ipython",
    "version": 3
   },
   "file_extension": ".py",
   "mimetype": "text/x-python",
   "name": "python",
   "nbconvert_exporter": "python",
   "pygments_lexer": "ipython3",
   "version": "3.11.10"
  }
 },
 "nbformat": 4,
 "nbformat_minor": 2
}
